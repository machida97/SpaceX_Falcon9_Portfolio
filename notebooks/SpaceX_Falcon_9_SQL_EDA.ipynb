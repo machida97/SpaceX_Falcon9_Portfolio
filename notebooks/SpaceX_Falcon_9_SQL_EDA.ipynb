{
  "metadata": {
    "kernelspec": {
      "name": "python",
      "display_name": "Python (Pyodide)",
      "language": "python"
    },
    "language_info": {
      "codemirror_mode": {
        "name": "python",
        "version": 3
      },
      "file_extension": ".py",
      "mimetype": "text/x-python",
      "name": "python",
      "nbconvert_exporter": "python",
      "pygments_lexer": "ipython3",
      "version": "3.8"
    },
    "colab": {
      "provenance": [],
      "toc_visible": true
    }
  },
  "nbformat_minor": 5,
  "nbformat": 4,
  "cells": [
    {
      "id": "6466fae0-4245-406d-8072-733a3c391dc3",
      "cell_type": "markdown",
      "source": [
        "# SpaceX Falcon 9 SQL EDA\n",
        "\n",
        "## 1. Introduction\n",
        "\n",
        "This notebook demonstrates exploratory data analysis using SQL on the SpaceX Falcon 9 dataset.\n",
        "We will explore landing outcomes, success rates across different features, and relationships between weather, payload, and first-stage landing success.\n"
      ],
      "metadata": {
        "id": "6466fae0-4245-406d-8072-733a3c391dc3"
      }
    },
    {
      "id": "77fb98d4-d74c-42e2-a185-974edafa0114",
      "cell_type": "markdown",
      "source": [
        "## 2. Setting up the SQL Environment\n",
        "\n",
        "In this section, we’ll prepare the environment to run SQL queries inside the notebook. We’ll:  \n",
        "1. Install required libraries.  \n",
        "2. Import Python modules.  \n",
        "3. Load the `ipython-sql` extension.  \n",
        "4. Configure an SQLite database.  \n",
        "5. Load our dataset into the database as a table.  \n",
        "\n",
        "This will allow us to use `%%sql` cell magics to run queries against our dataset.  "
      ],
      "metadata": {
        "id": "77fb98d4-d74c-42e2-a185-974edafa0114"
      }
    },
    {
      "cell_type": "markdown",
      "source": [
        "### 2.1 Install Required Libraries  \n",
        "We install the packages needed for SQL integration:  \n",
        "- **sqlalchemy**: database connection support.  \n",
        "- **pandas**: data handling and CSV loading.  \n",
        "- **ipython-sql**: SQL cell magics (`%%sql`).  \n",
        "- **prettytable**: clean tabular formatting for query results."
      ],
      "metadata": {
        "id": "GnhWiYx9w2Qx"
      },
      "id": "GnhWiYx9w2Qx"
    },
    {
      "id": "86f786ca-97e2-49c8-b205-b3c460c3c41b",
      "cell_type": "code",
      "source": [
        "!pip install -q sqlalchemy==1.3.9\n",
        "!pip install -q pandas\n",
        "!pip install -q ipython-sql\n",
        "!pip install -q ipython-sql prettytable"
      ],
      "metadata": {
        "trusted": true,
        "colab": {
          "base_uri": "https://localhost:8080/"
        },
        "id": "86f786ca-97e2-49c8-b205-b3c460c3c41b",
        "outputId": "ddf56353-7c41-497d-fa3b-d1fc8d9683bb"
      },
      "outputs": [
        {
          "output_type": "stream",
          "name": "stdout",
          "text": [
            "\u001b[31mERROR: pip's dependency resolver does not currently take into account all the packages that are installed. This behaviour is the source of the following dependency conflicts.\n",
            "langchain 0.3.27 requires SQLAlchemy<3,>=1.4, but you have sqlalchemy 1.3.9 which is incompatible.\n",
            "ipython-sql 0.5.0 requires sqlalchemy>=2.0, but you have sqlalchemy 1.3.9 which is incompatible.\n",
            "google-adk 1.13.0 requires sqlalchemy<3.0.0,>=2.0, but you have sqlalchemy 1.3.9 which is incompatible.\n",
            "alembic 1.16.5 requires SQLAlchemy>=1.4.0, but you have sqlalchemy 1.3.9 which is incompatible.\u001b[0m\u001b[31m\n",
            "\u001b[0m"
          ]
        }
      ],
      "execution_count": 1
    },
    {
      "cell_type": "markdown",
      "source": [
        "### 2.2 Import Python Modules\n",
        "\n",
        "Next, we import the libraries we’ll use for database connections and data handling."
      ],
      "metadata": {
        "id": "jvp8WumGw7sb"
      },
      "id": "jvp8WumGw7sb"
    },
    {
      "cell_type": "code",
      "source": [
        "import csv, sqlite3\n",
        "import prettytable\n",
        "import pandas as pd"
      ],
      "metadata": {
        "id": "UuJo6gy-uL6o"
      },
      "id": "UuJo6gy-uL6o",
      "execution_count": 2,
      "outputs": []
    },
    {
      "cell_type": "markdown",
      "source": [
        "### 2.3 Load the ipython-sql Extension\n",
        "\n",
        "The ipython-sql extension enables us to use %%sql magic commands in Jupyter notebooks."
      ],
      "metadata": {
        "id": "QggQtIcPxDan"
      },
      "id": "QggQtIcPxDan"
    },
    {
      "cell_type": "code",
      "source": [
        "%load_ext sql"
      ],
      "metadata": {
        "id": "X9i6VEcftkU2"
      },
      "id": "X9i6VEcftkU2",
      "execution_count": 3,
      "outputs": []
    },
    {
      "cell_type": "markdown",
      "source": [
        "### 2.4 Configure SQLite Database\n",
        "\n",
        "We create a local SQLite database (my_data1.db) and set PrettyTable’s default style for cleaner SQL output."
      ],
      "metadata": {
        "id": "iWAov3x_xJxV"
      },
      "id": "iWAov3x_xJxV"
    },
    {
      "cell_type": "code",
      "source": [
        "prettytable.DEFAULT = 'DEFAULT'\n",
        "con = sqlite3.connect(\"my_data1.db\")\n",
        "cur = con.cursor()"
      ],
      "metadata": {
        "id": "Z48_w98Htmo8"
      },
      "id": "Z48_w98Htmo8",
      "execution_count": 4,
      "outputs": []
    },
    {
      "cell_type": "markdown",
      "source": [
        "### 2.5 Connect %sql Magic to the Database\n",
        "\n",
        "Here, we bind the %%sql magic to our SQLite database."
      ],
      "metadata": {
        "id": "KQVXxeR9xNqC"
      },
      "id": "KQVXxeR9xNqC"
    },
    {
      "cell_type": "code",
      "source": [
        "%sql sqlite:///my_data1.db"
      ],
      "metadata": {
        "id": "hIB7nfA3tw7g"
      },
      "id": "hIB7nfA3tw7g",
      "execution_count": 5,
      "outputs": []
    },
    {
      "cell_type": "markdown",
      "source": [
        "### 2.6 Load Dataset into SQL Table\n",
        "\n",
        "Finally, we load our CSV dataset (dataset_part_2.csv) into the database as a table named SPACEXTBL."
      ],
      "metadata": {
        "id": "f-7dUpnpxble"
      },
      "id": "f-7dUpnpxble"
    },
    {
      "cell_type": "code",
      "source": [
        "df = pd.read_csv(\"dataset_part_2.csv\")\n",
        "df.to_sql(\"SPACEXTBL\", con, if_exists='replace', index=False,method=\"multi\")"
      ],
      "metadata": {
        "colab": {
          "base_uri": "https://localhost:8080/"
        },
        "id": "9kthcYwlt0GU",
        "outputId": "276a238f-a9e5-4485-8dfc-ebe525a3cb1b"
      },
      "id": "9kthcYwlt0GU",
      "execution_count": 6,
      "outputs": [
        {
          "output_type": "execute_result",
          "data": {
            "text/plain": [
              "90"
            ]
          },
          "metadata": {},
          "execution_count": 6
        }
      ]
    },
    {
      "id": "953f2577-bd79-4693-b407-3e35ace228d3",
      "cell_type": "markdown",
      "source": [
        "## 3. Landing Outcomes Overview  \n",
        "\n",
        "Now that the dataset is loaded into SQL, we begin by exploring the distribution of landing outcomes.  \n",
        "These queries help us understand how often landings were successful vs. unsuccessful, and provide a baseline success rate.  "
      ],
      "metadata": {
        "id": "953f2577-bd79-4693-b407-3e35ace228d3"
      }
    },
    {
      "id": "5b2f2aaa-0051-4bcd-8f72-d04befd32d7b",
      "cell_type": "code",
      "source": [
        "# Count of each landing outcome\n",
        "%%sql SELECT Outcome, COUNT(*) AS Total\n",
        "FROM SPACEXTBL\n",
        "GROUP BY Outcome\n",
        "ORDER BY Total DESC;"
      ],
      "metadata": {
        "trusted": true,
        "colab": {
          "base_uri": "https://localhost:8080/",
          "height": 248
        },
        "id": "5b2f2aaa-0051-4bcd-8f72-d04befd32d7b",
        "outputId": "b59a3201-b974-4d35-d429-56f1d2481e8b"
      },
      "outputs": [
        {
          "output_type": "stream",
          "name": "stdout",
          "text": [
            " * sqlite:///my_data1.db\n",
            "Done.\n"
          ]
        },
        {
          "output_type": "execute_result",
          "data": {
            "text/plain": [
              "[('True ASDS', 41),\n",
              " ('None None', 19),\n",
              " ('True RTLS', 14),\n",
              " ('False ASDS', 6),\n",
              " ('True Ocean', 5),\n",
              " ('None ASDS', 2),\n",
              " ('False Ocean', 2),\n",
              " ('False RTLS', 1)]"
            ],
            "text/html": [
              "<table>\n",
              "    <thead>\n",
              "        <tr>\n",
              "            <th>Outcome</th>\n",
              "            <th>Total</th>\n",
              "        </tr>\n",
              "    </thead>\n",
              "    <tbody>\n",
              "        <tr>\n",
              "            <td>True ASDS</td>\n",
              "            <td>41</td>\n",
              "        </tr>\n",
              "        <tr>\n",
              "            <td>None None</td>\n",
              "            <td>19</td>\n",
              "        </tr>\n",
              "        <tr>\n",
              "            <td>True RTLS</td>\n",
              "            <td>14</td>\n",
              "        </tr>\n",
              "        <tr>\n",
              "            <td>False ASDS</td>\n",
              "            <td>6</td>\n",
              "        </tr>\n",
              "        <tr>\n",
              "            <td>True Ocean</td>\n",
              "            <td>5</td>\n",
              "        </tr>\n",
              "        <tr>\n",
              "            <td>None ASDS</td>\n",
              "            <td>2</td>\n",
              "        </tr>\n",
              "        <tr>\n",
              "            <td>False Ocean</td>\n",
              "            <td>2</td>\n",
              "        </tr>\n",
              "        <tr>\n",
              "            <td>False RTLS</td>\n",
              "            <td>1</td>\n",
              "        </tr>\n",
              "    </tbody>\n",
              "</table>"
            ]
          },
          "metadata": {},
          "execution_count": 7
        }
      ],
      "execution_count": 7
    },
    {
      "cell_type": "markdown",
      "source": [
        "👉 This query shows the distribution of landing outcomes. True ASDS is the most common outcome."
      ],
      "metadata": {
        "id": "aNup4Jf-EhrI"
      },
      "id": "aNup4Jf-EhrI"
    },
    {
      "id": "555bba67-27f8-4c1c-9734-806f7cb5c471",
      "cell_type": "code",
      "source": [
        "# Overall success rate (binary Class)\n",
        "%sql SELECT AVG(Class) AS OverallSuccessRate FROM SPACEXTBL;"
      ],
      "metadata": {
        "trusted": true,
        "colab": {
          "base_uri": "https://localhost:8080/",
          "height": 98
        },
        "id": "555bba67-27f8-4c1c-9734-806f7cb5c471",
        "outputId": "39bf4608-c408-4044-e989-11fb8d2940ea"
      },
      "outputs": [
        {
          "output_type": "stream",
          "name": "stdout",
          "text": [
            " * sqlite:///my_data1.db\n",
            "Done.\n"
          ]
        },
        {
          "output_type": "execute_result",
          "data": {
            "text/plain": [
              "[(0.6666666666666666,)]"
            ],
            "text/html": [
              "<table>\n",
              "    <thead>\n",
              "        <tr>\n",
              "            <th>OverallSuccessRate</th>\n",
              "        </tr>\n",
              "    </thead>\n",
              "    <tbody>\n",
              "        <tr>\n",
              "            <td>0.6666666666666666</td>\n",
              "        </tr>\n",
              "    </tbody>\n",
              "</table>"
            ]
          },
          "metadata": {},
          "execution_count": 8
        }
      ],
      "execution_count": 8
    },
    {
      "cell_type": "markdown",
      "source": [
        "\n",
        "\n",
        "👉 The overall success rate (`AVG(Class)`) is 67%."
      ],
      "metadata": {
        "id": "VVYqg3WrEbE-"
      },
      "id": "VVYqg3WrEbE-"
    },
    {
      "id": "2356dd43-2494-4b42-a68e-640fa520cc8f",
      "cell_type": "markdown",
      "source": [
        "## 4. Landing Success by Launch Site  \n",
        "\n",
        "Different launch sites may have different conditions, infrastructure, or mission profiles.  \n",
        "Here we compare landing success rates across sites.  "
      ],
      "metadata": {
        "id": "2356dd43-2494-4b42-a68e-640fa520cc8f"
      }
    },
    {
      "id": "579ecf1d-90f0-4495-a2cc-66951f6080f4",
      "cell_type": "code",
      "source": [
        "%%sql SELECT LaunchSite,\n",
        "       AVG(Class) AS SuccessRate,\n",
        "       COUNT(*) AS NumLaunches\n",
        "FROM SPACEXTBL\n",
        "GROUP BY LaunchSite\n",
        "ORDER BY SuccessRate DESC;"
      ],
      "metadata": {
        "trusted": true,
        "colab": {
          "base_uri": "https://localhost:8080/",
          "height": 141
        },
        "id": "579ecf1d-90f0-4495-a2cc-66951f6080f4",
        "outputId": "64a14e0c-7ff2-4f9e-b742-11621e7021fc"
      },
      "outputs": [
        {
          "output_type": "stream",
          "name": "stdout",
          "text": [
            " * sqlite:///my_data1.db\n",
            "Done.\n"
          ]
        },
        {
          "output_type": "execute_result",
          "data": {
            "text/plain": [
              "[('KSC LC 39A', 0.7727272727272727, 22),\n",
              " ('VAFB SLC 4E', 0.7692307692307693, 13),\n",
              " ('CCSFS SLC 40', 0.6, 55)]"
            ],
            "text/html": [
              "<table>\n",
              "    <thead>\n",
              "        <tr>\n",
              "            <th>LaunchSite</th>\n",
              "            <th>SuccessRate</th>\n",
              "            <th>NumLaunches</th>\n",
              "        </tr>\n",
              "    </thead>\n",
              "    <tbody>\n",
              "        <tr>\n",
              "            <td>KSC LC 39A</td>\n",
              "            <td>0.7727272727272727</td>\n",
              "            <td>22</td>\n",
              "        </tr>\n",
              "        <tr>\n",
              "            <td>VAFB SLC 4E</td>\n",
              "            <td>0.7692307692307693</td>\n",
              "            <td>13</td>\n",
              "        </tr>\n",
              "        <tr>\n",
              "            <td>CCSFS SLC 40</td>\n",
              "            <td>0.6</td>\n",
              "            <td>55</td>\n",
              "        </tr>\n",
              "    </tbody>\n",
              "</table>"
            ]
          },
          "metadata": {},
          "execution_count": 9
        }
      ],
      "execution_count": 9
    },
    {
      "cell_type": "markdown",
      "source": [
        "👉 Launch sites differ in geography, infrastructure, and mission type.\n",
        "\n",
        "👉 Launch sites generally have a similar success rate, between 60% and77%."
      ],
      "metadata": {
        "id": "hcJWzjPoE4FN"
      },
      "id": "hcJWzjPoE4FN"
    },
    {
      "cell_type": "markdown",
      "source": [
        "## 5. Landing Success by Orbit"
      ],
      "metadata": {
        "id": "qs8bxRPm8zcO"
      },
      "id": "qs8bxRPm8zcO"
    },
    {
      "cell_type": "code",
      "source": [
        "%%sql SELECT Orbit,\n",
        "       AVG(Class) AS SuccessRate,\n",
        "       COUNT(*) AS NumLaunches\n",
        "FROM SPACEXTBL\n",
        "GROUP BY Orbit\n",
        "ORDER BY SuccessRate DESC;"
      ],
      "metadata": {
        "colab": {
          "base_uri": "https://localhost:8080/",
          "height": 312
        },
        "id": "mB0M-3S18qMa",
        "outputId": "3765ef01-56cb-4505-c887-81be51a7152e"
      },
      "id": "mB0M-3S18qMa",
      "execution_count": 10,
      "outputs": [
        {
          "output_type": "stream",
          "name": "stdout",
          "text": [
            " * sqlite:///my_data1.db\n",
            "Done.\n"
          ]
        },
        {
          "output_type": "execute_result",
          "data": {
            "text/plain": [
              "[('SSO', 1.0, 5),\n",
              " ('HEO', 1.0, 1),\n",
              " ('GEO', 1.0, 1),\n",
              " ('ES-L1', 1.0, 1),\n",
              " ('VLEO', 0.8571428571428571, 14),\n",
              " ('LEO', 0.7142857142857143, 7),\n",
              " ('PO', 0.6666666666666666, 9),\n",
              " ('MEO', 0.6666666666666666, 3),\n",
              " ('ISS', 0.6190476190476191, 21),\n",
              " ('GTO', 0.5185185185185185, 27),\n",
              " ('SO', 0.0, 1)]"
            ],
            "text/html": [
              "<table>\n",
              "    <thead>\n",
              "        <tr>\n",
              "            <th>Orbit</th>\n",
              "            <th>SuccessRate</th>\n",
              "            <th>NumLaunches</th>\n",
              "        </tr>\n",
              "    </thead>\n",
              "    <tbody>\n",
              "        <tr>\n",
              "            <td>SSO</td>\n",
              "            <td>1.0</td>\n",
              "            <td>5</td>\n",
              "        </tr>\n",
              "        <tr>\n",
              "            <td>HEO</td>\n",
              "            <td>1.0</td>\n",
              "            <td>1</td>\n",
              "        </tr>\n",
              "        <tr>\n",
              "            <td>GEO</td>\n",
              "            <td>1.0</td>\n",
              "            <td>1</td>\n",
              "        </tr>\n",
              "        <tr>\n",
              "            <td>ES-L1</td>\n",
              "            <td>1.0</td>\n",
              "            <td>1</td>\n",
              "        </tr>\n",
              "        <tr>\n",
              "            <td>VLEO</td>\n",
              "            <td>0.8571428571428571</td>\n",
              "            <td>14</td>\n",
              "        </tr>\n",
              "        <tr>\n",
              "            <td>LEO</td>\n",
              "            <td>0.7142857142857143</td>\n",
              "            <td>7</td>\n",
              "        </tr>\n",
              "        <tr>\n",
              "            <td>PO</td>\n",
              "            <td>0.6666666666666666</td>\n",
              "            <td>9</td>\n",
              "        </tr>\n",
              "        <tr>\n",
              "            <td>MEO</td>\n",
              "            <td>0.6666666666666666</td>\n",
              "            <td>3</td>\n",
              "        </tr>\n",
              "        <tr>\n",
              "            <td>ISS</td>\n",
              "            <td>0.6190476190476191</td>\n",
              "            <td>21</td>\n",
              "        </tr>\n",
              "        <tr>\n",
              "            <td>GTO</td>\n",
              "            <td>0.5185185185185185</td>\n",
              "            <td>27</td>\n",
              "        </tr>\n",
              "        <tr>\n",
              "            <td>SO</td>\n",
              "            <td>0.0</td>\n",
              "            <td>1</td>\n",
              "        </tr>\n",
              "    </tbody>\n",
              "</table>"
            ]
          },
          "metadata": {},
          "execution_count": 10
        }
      ]
    },
    {
      "cell_type": "markdown",
      "source": [
        "👉 Different orbits require different flight profiles.  \n",
        "👉 Some orbits are consistently reliable, while others show lower success rates due to higher mission difficulty.  \n",
        "👉 This helps identify “risky” orbits for landings."
      ],
      "metadata": {
        "id": "RfgOz9CpFlLR"
      },
      "id": "RfgOz9CpFlLR"
    },
    {
      "cell_type": "markdown",
      "source": [
        "## 6. Landing Success by Payload Category"
      ],
      "metadata": {
        "id": "qRJbE75Z88Vn"
      },
      "id": "qRJbE75Z88Vn"
    },
    {
      "cell_type": "code",
      "source": [
        "%%sql SELECT PayloadCategory,\n",
        "       AVG(Class) AS SuccessRate,\n",
        "       COUNT(*) AS NumLaunches\n",
        "FROM SPACEXTBL\n",
        "GROUP BY PayloadCategory\n",
        "ORDER BY PayloadCategory;"
      ],
      "metadata": {
        "colab": {
          "base_uri": "https://localhost:8080/",
          "height": 141
        },
        "id": "ejVRPZiH9CZs",
        "outputId": "c76b99bc-10df-406f-844b-3dd847120c99"
      },
      "id": "ejVRPZiH9CZs",
      "execution_count": 11,
      "outputs": [
        {
          "output_type": "stream",
          "name": "stdout",
          "text": [
            " * sqlite:///my_data1.db\n",
            "Done.\n"
          ]
        },
        {
          "output_type": "execute_result",
          "data": {
            "text/plain": [
              "[('Heavy', 0.8214285714285714, 28),\n",
              " ('Light', 0.6333333333333333, 30),\n",
              " ('Medium', 0.5625, 32)]"
            ],
            "text/html": [
              "<table>\n",
              "    <thead>\n",
              "        <tr>\n",
              "            <th>PayloadCategory</th>\n",
              "            <th>SuccessRate</th>\n",
              "            <th>NumLaunches</th>\n",
              "        </tr>\n",
              "    </thead>\n",
              "    <tbody>\n",
              "        <tr>\n",
              "            <td>Heavy</td>\n",
              "            <td>0.8214285714285714</td>\n",
              "            <td>28</td>\n",
              "        </tr>\n",
              "        <tr>\n",
              "            <td>Light</td>\n",
              "            <td>0.6333333333333333</td>\n",
              "            <td>30</td>\n",
              "        </tr>\n",
              "        <tr>\n",
              "            <td>Medium</td>\n",
              "            <td>0.5625</td>\n",
              "            <td>32</td>\n",
              "        </tr>\n",
              "    </tbody>\n",
              "</table>"
            ]
          },
          "metadata": {},
          "execution_count": 11
        }
      ]
    },
    {
      "cell_type": "markdown",
      "source": [
        "👉 Heavier payloads generally make landings harder.\n",
        "\n",
        "👉 However, the highest succes rate of payloads is \"Heavy\"."
      ],
      "metadata": {
        "id": "WUk0k-T9Fprm"
      },
      "id": "WUk0k-T9Fprm"
    },
    {
      "cell_type": "markdown",
      "source": [
        "## 7. Landing Success by Temperature Category"
      ],
      "metadata": {
        "id": "ktNgvFxp9Kxl"
      },
      "id": "ktNgvFxp9Kxl"
    },
    {
      "cell_type": "code",
      "source": [
        "%%sql SELECT TempCategory,\n",
        "       AVG(Class) AS SuccessRate,\n",
        "       COUNT(*) AS NumLaunches\n",
        "FROM SPACEXTBL\n",
        "GROUP BY TempCategory\n",
        "ORDER BY TempCategory;"
      ],
      "metadata": {
        "colab": {
          "base_uri": "https://localhost:8080/",
          "height": 141
        },
        "id": "auVBVXG59F1s",
        "outputId": "286de169-6986-49de-ce39-5371a955a8f3"
      },
      "id": "auVBVXG59F1s",
      "execution_count": 12,
      "outputs": [
        {
          "output_type": "stream",
          "name": "stdout",
          "text": [
            " * sqlite:///my_data1.db\n",
            "Done.\n"
          ]
        },
        {
          "output_type": "execute_result",
          "data": {
            "text/plain": [
              "[('Cold', 0.5, 2),\n",
              " ('Hot', 0.7058823529411765, 34),\n",
              " ('Moderate', 0.6481481481481481, 54)]"
            ],
            "text/html": [
              "<table>\n",
              "    <thead>\n",
              "        <tr>\n",
              "            <th>TempCategory</th>\n",
              "            <th>SuccessRate</th>\n",
              "            <th>NumLaunches</th>\n",
              "        </tr>\n",
              "    </thead>\n",
              "    <tbody>\n",
              "        <tr>\n",
              "            <td>Cold</td>\n",
              "            <td>0.5</td>\n",
              "            <td>2</td>\n",
              "        </tr>\n",
              "        <tr>\n",
              "            <td>Hot</td>\n",
              "            <td>0.7058823529411765</td>\n",
              "            <td>34</td>\n",
              "        </tr>\n",
              "        <tr>\n",
              "            <td>Moderate</td>\n",
              "            <td>0.6481481481481481</td>\n",
              "            <td>54</td>\n",
              "        </tr>\n",
              "    </tbody>\n",
              "</table>"
            ]
          },
          "metadata": {},
          "execution_count": 12
        }
      ]
    },
    {
      "cell_type": "markdown",
      "source": [
        "👉 Extreme heat or cold can affect rocket materials and systems.  \n",
        "👉 Here we check if temperature extremes reduce landing success.  \n",
        "👉 However, there is very little difference between “Hot” and \"Moderate\" temperatures."
      ],
      "metadata": {
        "id": "jqy-SpofF_zM"
      },
      "id": "jqy-SpofF_zM"
    },
    {
      "cell_type": "markdown",
      "source": [
        "## 8. Landing Success by Wind Category"
      ],
      "metadata": {
        "id": "H0ZvMS_z9QsB"
      },
      "id": "H0ZvMS_z9QsB"
    },
    {
      "cell_type": "code",
      "source": [
        "%%sql SELECT WindCategory,\n",
        "       AVG(Class) AS SuccessRate,\n",
        "       COUNT(*) AS NumLaunches\n",
        "FROM SPACEXTBL\n",
        "GROUP BY WindCategory\n",
        "ORDER BY WindCategory;"
      ],
      "metadata": {
        "colab": {
          "base_uri": "https://localhost:8080/",
          "height": 141
        },
        "id": "TWCysFXm9UQX",
        "outputId": "ffa576e0-8f49-4e7b-c14c-98df58697455"
      },
      "id": "TWCysFXm9UQX",
      "execution_count": 13,
      "outputs": [
        {
          "output_type": "stream",
          "name": "stdout",
          "text": [
            " * sqlite:///my_data1.db\n",
            "Done.\n"
          ]
        },
        {
          "output_type": "execute_result",
          "data": {
            "text/plain": [
              "[('High', 0.6, 5), ('Low', 0.59375, 32), ('Moderate', 0.7169811320754716, 53)]"
            ],
            "text/html": [
              "<table>\n",
              "    <thead>\n",
              "        <tr>\n",
              "            <th>WindCategory</th>\n",
              "            <th>SuccessRate</th>\n",
              "            <th>NumLaunches</th>\n",
              "        </tr>\n",
              "    </thead>\n",
              "    <tbody>\n",
              "        <tr>\n",
              "            <td>High</td>\n",
              "            <td>0.6</td>\n",
              "            <td>5</td>\n",
              "        </tr>\n",
              "        <tr>\n",
              "            <td>Low</td>\n",
              "            <td>0.59375</td>\n",
              "            <td>32</td>\n",
              "        </tr>\n",
              "        <tr>\n",
              "            <td>Moderate</td>\n",
              "            <td>0.7169811320754716</td>\n",
              "            <td>53</td>\n",
              "        </tr>\n",
              "    </tbody>\n",
              "</table>"
            ]
          },
          "metadata": {},
          "execution_count": 13
        }
      ]
    },
    {
      "cell_type": "markdown",
      "source": [
        "👉 High winds increase landing difficulty.  \n",
        "👉 This query shows that \"Moderate\" winds have the highest success rates.  \n",
        "👉 However, there seems to be not much difference between \"High\" and \"Low\" winds."
      ],
      "metadata": {
        "id": "9pV08qEvGbAV"
      },
      "id": "9pV08qEvGbAV"
    },
    {
      "cell_type": "markdown",
      "source": [
        "## 9. Combined Weather Effects"
      ],
      "metadata": {
        "id": "Kq8LIGtd9ZiR"
      },
      "id": "Kq8LIGtd9ZiR"
    },
    {
      "cell_type": "code",
      "source": [
        "# Success rate by Temp + Wind category\n",
        "%%sql SELECT TempCategory, WindCategory,\n",
        "       AVG(Class) AS SuccessRate,\n",
        "       COUNT(*) AS NumLaunches\n",
        "FROM SPACEXTBL\n",
        "GROUP BY TempCategory, WindCategory\n",
        "ORDER BY TempCategory, WindCategory;"
      ],
      "metadata": {
        "colab": {
          "base_uri": "https://localhost:8080/",
          "height": 248
        },
        "id": "G_7ZIbsh9d7u",
        "outputId": "f17df6dc-5438-4b94-a08f-d8cd4f200343"
      },
      "id": "G_7ZIbsh9d7u",
      "execution_count": 14,
      "outputs": [
        {
          "output_type": "stream",
          "name": "stdout",
          "text": [
            " * sqlite:///my_data1.db\n",
            "Done.\n"
          ]
        },
        {
          "output_type": "execute_result",
          "data": {
            "text/plain": [
              "[('Cold', 'Low', 1.0, 1),\n",
              " ('Cold', 'Moderate', 0.0, 1),\n",
              " ('Hot', 'High', 1.0, 1),\n",
              " ('Hot', 'Low', 0.6666666666666666, 12),\n",
              " ('Hot', 'Moderate', 0.7142857142857143, 21),\n",
              " ('Moderate', 'High', 0.5, 4),\n",
              " ('Moderate', 'Low', 0.5263157894736842, 19),\n",
              " ('Moderate', 'Moderate', 0.7419354838709677, 31)]"
            ],
            "text/html": [
              "<table>\n",
              "    <thead>\n",
              "        <tr>\n",
              "            <th>TempCategory</th>\n",
              "            <th>WindCategory</th>\n",
              "            <th>SuccessRate</th>\n",
              "            <th>NumLaunches</th>\n",
              "        </tr>\n",
              "    </thead>\n",
              "    <tbody>\n",
              "        <tr>\n",
              "            <td>Cold</td>\n",
              "            <td>Low</td>\n",
              "            <td>1.0</td>\n",
              "            <td>1</td>\n",
              "        </tr>\n",
              "        <tr>\n",
              "            <td>Cold</td>\n",
              "            <td>Moderate</td>\n",
              "            <td>0.0</td>\n",
              "            <td>1</td>\n",
              "        </tr>\n",
              "        <tr>\n",
              "            <td>Hot</td>\n",
              "            <td>High</td>\n",
              "            <td>1.0</td>\n",
              "            <td>1</td>\n",
              "        </tr>\n",
              "        <tr>\n",
              "            <td>Hot</td>\n",
              "            <td>Low</td>\n",
              "            <td>0.6666666666666666</td>\n",
              "            <td>12</td>\n",
              "        </tr>\n",
              "        <tr>\n",
              "            <td>Hot</td>\n",
              "            <td>Moderate</td>\n",
              "            <td>0.7142857142857143</td>\n",
              "            <td>21</td>\n",
              "        </tr>\n",
              "        <tr>\n",
              "            <td>Moderate</td>\n",
              "            <td>High</td>\n",
              "            <td>0.5</td>\n",
              "            <td>4</td>\n",
              "        </tr>\n",
              "        <tr>\n",
              "            <td>Moderate</td>\n",
              "            <td>Low</td>\n",
              "            <td>0.5263157894736842</td>\n",
              "            <td>19</td>\n",
              "        </tr>\n",
              "        <tr>\n",
              "            <td>Moderate</td>\n",
              "            <td>Moderate</td>\n",
              "            <td>0.7419354838709677</td>\n",
              "            <td>31</td>\n",
              "        </tr>\n",
              "    </tbody>\n",
              "</table>"
            ]
          },
          "metadata": {},
          "execution_count": 14
        }
      ]
    },
    {
      "cell_type": "markdown",
      "source": [
        "👉 Weather rarely acts alone.  \n",
        "👉 This combined query checks the interaction between temperature and wind.  \n",
        "👉 Patterns here reveal whether certain weather combinations (e.g., \"Hot\" + \"Windy\") are especially problematic. However, the lowest success rate with a significant number of launches is \"Moderate\" and \"Low\", which is unexpected."
      ],
      "metadata": {
        "id": "4fz4RLvhG7Hd"
      },
      "id": "4fz4RLvhG7Hd"
    },
    {
      "cell_type": "markdown",
      "source": [
        "## 10. Advanced Analysis  \n",
        "\n",
        "In this section, we explore more complex queries combining multiple features (payload, orbit, weather, launch site).  \n",
        "These give us deeper insights into patterns that may not be visible from single-feature breakdowns.  "
      ],
      "metadata": {
        "id": "kXWGpAuV9xlj"
      },
      "id": "kXWGpAuV9xlj"
    },
    {
      "cell_type": "markdown",
      "source": [
        "### 10.1 High Payload & Weather Impact  \n",
        "Here we check whether heavy payloads combined with extreme weather conditions reduce success rates.  "
      ],
      "metadata": {
        "id": "_NqEqecs93Rh"
      },
      "id": "_NqEqecs93Rh"
    },
    {
      "cell_type": "code",
      "source": [
        "%%sql SELECT PayloadCategory, TempCategory, WindCategory,\n",
        "       AVG(Class) AS SuccessRate,\n",
        "       COUNT(*) AS NumLaunches\n",
        "FROM SPACEXTBL\n",
        "GROUP BY PayloadCategory, TempCategory, WindCategory\n",
        "ORDER BY PayloadCategory, TempCategory, WindCategory;"
      ],
      "metadata": {
        "colab": {
          "base_uri": "https://localhost:8080/",
          "height": 462
        },
        "id": "85gcr-Hy92Vp",
        "outputId": "46187039-480d-4866-aced-93b2e415dc1c"
      },
      "id": "85gcr-Hy92Vp",
      "execution_count": 15,
      "outputs": [
        {
          "output_type": "stream",
          "name": "stdout",
          "text": [
            " * sqlite:///my_data1.db\n",
            "Done.\n"
          ]
        },
        {
          "output_type": "execute_result",
          "data": {
            "text/plain": [
              "[('Heavy', 'Cold', 'Low', 1.0, 1),\n",
              " ('Heavy', 'Hot', 'Low', 0.7142857142857143, 7),\n",
              " ('Heavy', 'Hot', 'Moderate', 1.0, 4),\n",
              " ('Heavy', 'Moderate', 'High', 1.0, 1),\n",
              " ('Heavy', 'Moderate', 'Low', 0.7, 10),\n",
              " ('Heavy', 'Moderate', 'Moderate', 1.0, 5),\n",
              " ('Light', 'Hot', 'Low', 1.0, 2),\n",
              " ('Light', 'Hot', 'Moderate', 0.6666666666666666, 6),\n",
              " ('Light', 'Moderate', 'High', 0.5, 2),\n",
              " ('Light', 'Moderate', 'Low', 0.4, 5),\n",
              " ('Light', 'Moderate', 'Moderate', 0.6666666666666666, 15),\n",
              " ('Medium', 'Cold', 'Moderate', 0.0, 1),\n",
              " ('Medium', 'Hot', 'High', 1.0, 1),\n",
              " ('Medium', 'Hot', 'Low', 0.3333333333333333, 3),\n",
              " ('Medium', 'Hot', 'Moderate', 0.6363636363636364, 11),\n",
              " ('Medium', 'Moderate', 'High', 0.0, 1),\n",
              " ('Medium', 'Moderate', 'Low', 0.25, 4),\n",
              " ('Medium', 'Moderate', 'Moderate', 0.7272727272727273, 11)]"
            ],
            "text/html": [
              "<table>\n",
              "    <thead>\n",
              "        <tr>\n",
              "            <th>PayloadCategory</th>\n",
              "            <th>TempCategory</th>\n",
              "            <th>WindCategory</th>\n",
              "            <th>SuccessRate</th>\n",
              "            <th>NumLaunches</th>\n",
              "        </tr>\n",
              "    </thead>\n",
              "    <tbody>\n",
              "        <tr>\n",
              "            <td>Heavy</td>\n",
              "            <td>Cold</td>\n",
              "            <td>Low</td>\n",
              "            <td>1.0</td>\n",
              "            <td>1</td>\n",
              "        </tr>\n",
              "        <tr>\n",
              "            <td>Heavy</td>\n",
              "            <td>Hot</td>\n",
              "            <td>Low</td>\n",
              "            <td>0.7142857142857143</td>\n",
              "            <td>7</td>\n",
              "        </tr>\n",
              "        <tr>\n",
              "            <td>Heavy</td>\n",
              "            <td>Hot</td>\n",
              "            <td>Moderate</td>\n",
              "            <td>1.0</td>\n",
              "            <td>4</td>\n",
              "        </tr>\n",
              "        <tr>\n",
              "            <td>Heavy</td>\n",
              "            <td>Moderate</td>\n",
              "            <td>High</td>\n",
              "            <td>1.0</td>\n",
              "            <td>1</td>\n",
              "        </tr>\n",
              "        <tr>\n",
              "            <td>Heavy</td>\n",
              "            <td>Moderate</td>\n",
              "            <td>Low</td>\n",
              "            <td>0.7</td>\n",
              "            <td>10</td>\n",
              "        </tr>\n",
              "        <tr>\n",
              "            <td>Heavy</td>\n",
              "            <td>Moderate</td>\n",
              "            <td>Moderate</td>\n",
              "            <td>1.0</td>\n",
              "            <td>5</td>\n",
              "        </tr>\n",
              "        <tr>\n",
              "            <td>Light</td>\n",
              "            <td>Hot</td>\n",
              "            <td>Low</td>\n",
              "            <td>1.0</td>\n",
              "            <td>2</td>\n",
              "        </tr>\n",
              "        <tr>\n",
              "            <td>Light</td>\n",
              "            <td>Hot</td>\n",
              "            <td>Moderate</td>\n",
              "            <td>0.6666666666666666</td>\n",
              "            <td>6</td>\n",
              "        </tr>\n",
              "        <tr>\n",
              "            <td>Light</td>\n",
              "            <td>Moderate</td>\n",
              "            <td>High</td>\n",
              "            <td>0.5</td>\n",
              "            <td>2</td>\n",
              "        </tr>\n",
              "        <tr>\n",
              "            <td>Light</td>\n",
              "            <td>Moderate</td>\n",
              "            <td>Low</td>\n",
              "            <td>0.4</td>\n",
              "            <td>5</td>\n",
              "        </tr>\n",
              "        <tr>\n",
              "            <td>Light</td>\n",
              "            <td>Moderate</td>\n",
              "            <td>Moderate</td>\n",
              "            <td>0.6666666666666666</td>\n",
              "            <td>15</td>\n",
              "        </tr>\n",
              "        <tr>\n",
              "            <td>Medium</td>\n",
              "            <td>Cold</td>\n",
              "            <td>Moderate</td>\n",
              "            <td>0.0</td>\n",
              "            <td>1</td>\n",
              "        </tr>\n",
              "        <tr>\n",
              "            <td>Medium</td>\n",
              "            <td>Hot</td>\n",
              "            <td>High</td>\n",
              "            <td>1.0</td>\n",
              "            <td>1</td>\n",
              "        </tr>\n",
              "        <tr>\n",
              "            <td>Medium</td>\n",
              "            <td>Hot</td>\n",
              "            <td>Low</td>\n",
              "            <td>0.3333333333333333</td>\n",
              "            <td>3</td>\n",
              "        </tr>\n",
              "        <tr>\n",
              "            <td>Medium</td>\n",
              "            <td>Hot</td>\n",
              "            <td>Moderate</td>\n",
              "            <td>0.6363636363636364</td>\n",
              "            <td>11</td>\n",
              "        </tr>\n",
              "        <tr>\n",
              "            <td>Medium</td>\n",
              "            <td>Moderate</td>\n",
              "            <td>High</td>\n",
              "            <td>0.0</td>\n",
              "            <td>1</td>\n",
              "        </tr>\n",
              "        <tr>\n",
              "            <td>Medium</td>\n",
              "            <td>Moderate</td>\n",
              "            <td>Low</td>\n",
              "            <td>0.25</td>\n",
              "            <td>4</td>\n",
              "        </tr>\n",
              "        <tr>\n",
              "            <td>Medium</td>\n",
              "            <td>Moderate</td>\n",
              "            <td>Moderate</td>\n",
              "            <td>0.7272727272727273</td>\n",
              "            <td>11</td>\n",
              "        </tr>\n",
              "    </tbody>\n",
              "</table>"
            ]
          },
          "metadata": {},
          "execution_count": 15
        }
      ]
    },
    {
      "cell_type": "markdown",
      "source": [
        "👉 Combines payload with weather categories.  \n",
        "👉 Useful for spotting whether “heavy payload + extreme weather” scenarios are especially failure-prone."
      ],
      "metadata": {
        "id": "pVHIE9o8Hhvk"
      },
      "id": "pVHIE9o8Hhvk"
    },
    {
      "cell_type": "markdown",
      "source": [
        "### 10.2 Most Reliable Orbit + Launch Site Combinations  \n",
        "We look for orbit + site pairs with the highest landing success rates.  "
      ],
      "metadata": {
        "id": "arLoV2oK99oj"
      },
      "id": "arLoV2oK99oj"
    },
    {
      "cell_type": "code",
      "source": [
        "%%sql SELECT LaunchSite, Orbit,\n",
        "       AVG(Class) AS SuccessRate,\n",
        "       COUNT(*) AS NumLaunches\n",
        "FROM SPACEXTBL\n",
        "GROUP BY LaunchSite, Orbit\n",
        "ORDER BY SuccessRate DESC\n",
        "LIMIT 10;"
      ],
      "metadata": {
        "colab": {
          "base_uri": "https://localhost:8080/",
          "height": 291
        },
        "id": "HAn3FQ86-Chn",
        "outputId": "e2f21f97-a6e8-4522-dcc2-c4141dbc0d93"
      },
      "id": "HAn3FQ86-Chn",
      "execution_count": 16,
      "outputs": [
        {
          "output_type": "stream",
          "name": "stdout",
          "text": [
            " * sqlite:///my_data1.db\n",
            "Done.\n"
          ]
        },
        {
          "output_type": "execute_result",
          "data": {
            "text/plain": [
              "[('CCSFS SLC 40', 'ES-L1', 1.0, 1),\n",
              " ('CCSFS SLC 40', 'GEO', 1.0, 1),\n",
              " ('CCSFS SLC 40', 'HEO', 1.0, 1),\n",
              " ('CCSFS SLC 40', 'SSO', 1.0, 1),\n",
              " ('KSC LC 39A', 'ISS', 1.0, 5),\n",
              " ('KSC LC 39A', 'LEO', 1.0, 2),\n",
              " ('VAFB SLC 4E', 'SSO', 1.0, 4),\n",
              " ('CCSFS SLC 40', 'VLEO', 0.8888888888888888, 9),\n",
              " ('KSC LC 39A', 'VLEO', 0.8, 5),\n",
              " ('CCSFS SLC 40', 'MEO', 0.6666666666666666, 3)]"
            ],
            "text/html": [
              "<table>\n",
              "    <thead>\n",
              "        <tr>\n",
              "            <th>LaunchSite</th>\n",
              "            <th>Orbit</th>\n",
              "            <th>SuccessRate</th>\n",
              "            <th>NumLaunches</th>\n",
              "        </tr>\n",
              "    </thead>\n",
              "    <tbody>\n",
              "        <tr>\n",
              "            <td>CCSFS SLC 40</td>\n",
              "            <td>ES-L1</td>\n",
              "            <td>1.0</td>\n",
              "            <td>1</td>\n",
              "        </tr>\n",
              "        <tr>\n",
              "            <td>CCSFS SLC 40</td>\n",
              "            <td>GEO</td>\n",
              "            <td>1.0</td>\n",
              "            <td>1</td>\n",
              "        </tr>\n",
              "        <tr>\n",
              "            <td>CCSFS SLC 40</td>\n",
              "            <td>HEO</td>\n",
              "            <td>1.0</td>\n",
              "            <td>1</td>\n",
              "        </tr>\n",
              "        <tr>\n",
              "            <td>CCSFS SLC 40</td>\n",
              "            <td>SSO</td>\n",
              "            <td>1.0</td>\n",
              "            <td>1</td>\n",
              "        </tr>\n",
              "        <tr>\n",
              "            <td>KSC LC 39A</td>\n",
              "            <td>ISS</td>\n",
              "            <td>1.0</td>\n",
              "            <td>5</td>\n",
              "        </tr>\n",
              "        <tr>\n",
              "            <td>KSC LC 39A</td>\n",
              "            <td>LEO</td>\n",
              "            <td>1.0</td>\n",
              "            <td>2</td>\n",
              "        </tr>\n",
              "        <tr>\n",
              "            <td>VAFB SLC 4E</td>\n",
              "            <td>SSO</td>\n",
              "            <td>1.0</td>\n",
              "            <td>4</td>\n",
              "        </tr>\n",
              "        <tr>\n",
              "            <td>CCSFS SLC 40</td>\n",
              "            <td>VLEO</td>\n",
              "            <td>0.8888888888888888</td>\n",
              "            <td>9</td>\n",
              "        </tr>\n",
              "        <tr>\n",
              "            <td>KSC LC 39A</td>\n",
              "            <td>VLEO</td>\n",
              "            <td>0.8</td>\n",
              "            <td>5</td>\n",
              "        </tr>\n",
              "        <tr>\n",
              "            <td>CCSFS SLC 40</td>\n",
              "            <td>MEO</td>\n",
              "            <td>0.6666666666666666</td>\n",
              "            <td>3</td>\n",
              "        </tr>\n",
              "    </tbody>\n",
              "</table>"
            ]
          },
          "metadata": {},
          "execution_count": 16
        }
      ]
    },
    {
      "cell_type": "markdown",
      "source": [
        "👉 Identifies launch site + orbit pairs with the highest reliability.  \n",
        "👉 These combinations are the “safest bets” for future missions.  \n",
        "👉 Ranking them highlights best practices."
      ],
      "metadata": {
        "id": "RrRIPK6KH6S5"
      },
      "id": "RrRIPK6KH6S5"
    },
    {
      "cell_type": "markdown",
      "source": [
        "### 10.3 Rare Conditions  \n",
        "This query highlights unusual feature combinations with very few launches.  "
      ],
      "metadata": {
        "id": "PlOfy7lL-GfO"
      },
      "id": "PlOfy7lL-GfO"
    },
    {
      "cell_type": "code",
      "source": [
        "# Identify combinations with very few launches (less than 3)\n",
        "%%sql SELECT TempCategory, WindCategory, PayloadCategory,\n",
        "       COUNT(*) AS NumLaunches\n",
        "FROM SPACEXTBL\n",
        "GROUP BY TempCategory, WindCategory, PayloadCategory\n",
        "HAVING NumLaunches < 3;"
      ],
      "metadata": {
        "colab": {
          "base_uri": "https://localhost:8080/",
          "height": 227
        },
        "id": "JzXMj23k-J4U",
        "outputId": "7c0c503e-8219-46a8-b4fb-7cda2bf44572"
      },
      "id": "JzXMj23k-J4U",
      "execution_count": 17,
      "outputs": [
        {
          "output_type": "stream",
          "name": "stdout",
          "text": [
            " * sqlite:///my_data1.db\n",
            "Done.\n"
          ]
        },
        {
          "output_type": "execute_result",
          "data": {
            "text/plain": [
              "[('Cold', 'Low', 'Heavy', 1),\n",
              " ('Cold', 'Moderate', 'Medium', 1),\n",
              " ('Hot', 'High', 'Medium', 1),\n",
              " ('Hot', 'Low', 'Light', 2),\n",
              " ('Moderate', 'High', 'Heavy', 1),\n",
              " ('Moderate', 'High', 'Light', 2),\n",
              " ('Moderate', 'High', 'Medium', 1)]"
            ],
            "text/html": [
              "<table>\n",
              "    <thead>\n",
              "        <tr>\n",
              "            <th>TempCategory</th>\n",
              "            <th>WindCategory</th>\n",
              "            <th>PayloadCategory</th>\n",
              "            <th>NumLaunches</th>\n",
              "        </tr>\n",
              "    </thead>\n",
              "    <tbody>\n",
              "        <tr>\n",
              "            <td>Cold</td>\n",
              "            <td>Low</td>\n",
              "            <td>Heavy</td>\n",
              "            <td>1</td>\n",
              "        </tr>\n",
              "        <tr>\n",
              "            <td>Cold</td>\n",
              "            <td>Moderate</td>\n",
              "            <td>Medium</td>\n",
              "            <td>1</td>\n",
              "        </tr>\n",
              "        <tr>\n",
              "            <td>Hot</td>\n",
              "            <td>High</td>\n",
              "            <td>Medium</td>\n",
              "            <td>1</td>\n",
              "        </tr>\n",
              "        <tr>\n",
              "            <td>Hot</td>\n",
              "            <td>Low</td>\n",
              "            <td>Light</td>\n",
              "            <td>2</td>\n",
              "        </tr>\n",
              "        <tr>\n",
              "            <td>Moderate</td>\n",
              "            <td>High</td>\n",
              "            <td>Heavy</td>\n",
              "            <td>1</td>\n",
              "        </tr>\n",
              "        <tr>\n",
              "            <td>Moderate</td>\n",
              "            <td>High</td>\n",
              "            <td>Light</td>\n",
              "            <td>2</td>\n",
              "        </tr>\n",
              "        <tr>\n",
              "            <td>Moderate</td>\n",
              "            <td>High</td>\n",
              "            <td>Medium</td>\n",
              "            <td>1</td>\n",
              "        </tr>\n",
              "    </tbody>\n",
              "</table>"
            ]
          },
          "metadata": {},
          "execution_count": 17
        }
      ]
    },
    {
      "cell_type": "markdown",
      "source": [
        "👉 Finds unusual combinations (few launches).  \n",
        "👉 These rare cases are important: limited data may hide risks or opportunities.  \n",
        "👉 Engineers might treat these cautiously due to lack of evidence."
      ],
      "metadata": {
        "id": "StVYnMIVIIMb"
      },
      "id": "StVYnMIVIIMb"
    },
    {
      "cell_type": "markdown",
      "source": [
        "## ✅ 11. Conclusion\n",
        "\n",
        "This notebook focused on **exploratory data analysis with SQL** to uncover insights into Falcon 9 first-stage landing outcomes:  \n",
        "\n",
        "- **Landing success rates**: Varied strongly by orbit type and slightly by launch site.  \n",
        "- **Weather impact**: Temperature and wind conditions influenced landing success, especially when combined with payload mass.  \n",
        "- **Multi-feature analysis**: SQL queries revealed patterns not visible in single-feature summaries.  \n",
        "\n",
        "✅ **Skills demonstrated**: SQL querying for aggregation, grouping, filtering, and multi-feature analysis; integrating SQL with Python via `ipython-sql`; and managing datasets within an SQLite database.  \n",
        "\n",
        "This notebook builds on the **Data Wrangling and Preparation** notebook and provides a bridge to the upcoming **visual EDA** and **predictive modeling** notebooks in the portfolio.  \n",
        "  \n"
      ],
      "metadata": {
        "id": "AF9_Ao3PDZTR"
      },
      "id": "AF9_Ao3PDZTR"
    }
  ]
}